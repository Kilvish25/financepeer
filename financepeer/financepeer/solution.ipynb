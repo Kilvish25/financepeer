{
 "cells": [
  {
   "cell_type": "code",
   "execution_count": 7,
   "metadata": {},
   "outputs": [],
   "source": [
    "import mysql.connector\n",
    "import json\n",
    " "
   ]
  },
  {
   "cell_type": "code",
   "execution_count": 39,
   "metadata": {},
   "outputs": [
    {
     "data": {
      "text/plain": [
       "True"
      ]
     },
     "execution_count": 39,
     "metadata": {},
     "output_type": "execute_result"
    }
   ],
   "source": [
    "mydb = mysql.connector.Connect(host='localhost',user='root',passwd='@975203iitD',port=3306,database='financepeer',auth_plugin='mysql_native_password')\n",
    "cur=mydb.cursor()\n",
    "mydb.autocommit=True\n",
    "mydb.autocommit"
   ]
  },
  {
   "cell_type": "code",
   "execution_count": 18,
   "metadata": {},
   "outputs": [
    {
     "name": "stdout",
     "output_type": "stream",
     "text": [
      "('courses',)\n",
      "('financepeer',)\n",
      "('information_schema',)\n",
      "('mysql',)\n",
      "('performance_schema',)\n",
      "('sakila',)\n",
      "('start',)\n",
      "('sys',)\n",
      "('world',)\n"
     ]
    }
   ],
   "source": [
    "cur.execute(\"show databases\")\n",
    "for db in cur:\n",
    "    print(db)"
   ]
  },
  {
   "cell_type": "code",
   "execution_count": 19,
   "metadata": {},
   "outputs": [
    {
     "name": "stdout",
     "output_type": "stream",
     "text": [
      "('files',)\n",
      "('items',)\n"
     ]
    }
   ],
   "source": [
    "cur.execute(\"show tables\")\n",
    "for table in cur:\n",
    "    print(table)"
   ]
  },
  {
   "cell_type": "code",
   "execution_count": 20,
   "metadata": {},
   "outputs": [],
   "source": [
    "f = open('data.json')\n",
    "data = json.load(f)"
   ]
  },
  {
   "cell_type": "code",
   "execution_count": null,
   "metadata": {},
   "outputs": [],
   "source": []
  },
  {
   "cell_type": "code",
   "execution_count": 40,
   "metadata": {},
   "outputs": [
    {
     "name": "stdout",
     "output_type": "stream",
     "text": [
      "1 || 1 || sunt aut f || quia et suscipit\n",
      "sus\n",
      "1 || 2 || qui est es || est rerum tempore vi\n",
      "1 || 3 || ea molesti || et iusto sed quo iur\n",
      "1 || 4 || eum et est || ullam et saepe reici\n",
      "1 || 5 || nesciunt q || repudiandae veniam q\n",
      "1 || 6 || dolorem eu || ut aspernatur corpor\n",
      "1 || 7 || magnam fac || dolore placeat quibu\n",
      "1 || 8 || dolorem do || dignissimos aperiam \n",
      "1 || 9 || nesciunt i || consectetur animi ne\n",
      "1 || 10 || optio mole || quo et expedita modi\n",
      "2 || 11 || et ea vero || delectus reiciendis \n",
      "2 || 12 || in quibusd || itaque id aut magnam\n",
      "2 || 13 || dolorum ut || aut dicta possimus s\n",
      "2 || 14 || voluptatem || fuga et accusamus do\n",
      "2 || 15 || eveniet qu || reprehenderit quos p\n",
      "2 || 16 || sint susci || suscipit nam nisi qu\n",
      "2 || 17 || fugit volu || eos voluptas et aut \n",
      "2 || 18 || voluptate  || eveniet quo quis\n",
      "lab\n",
      "2 || 19 || adipisci p || illum quis cupiditat\n",
      "2 || 20 || doloribus  || qui consequuntur duc\n",
      "3 || 21 || asperiores || repellat aliquid pra\n",
      "3 || 22 || dolor sint || eos qui et ipsum ips\n",
      "3 || 23 || maxime id  || veritatis unde neque\n",
      "3 || 24 || autem hic  || enim et ex nulla\n",
      "omn\n",
      "3 || 25 || rem alias  || ullam consequatur ut\n",
      "3 || 26 || est et qua || similique esse dolor\n",
      "3 || 27 || quasi id e || eum sed dolores ipsa\n",
      "3 || 28 || delectus u || non et quaerat ex qu\n",
      "3 || 29 || iusto eius || odit magnam ut saepe\n",
      "3 || 30 || a quo magn || alias dolor cumque\n",
      "i\n",
      "4 || 31 || ullam ut q || debitis eius sed qui\n",
      "4 || 32 || doloremque || deserunt eos nobis a\n",
      "4 || 33 || qui explic || rerum ut et numquam \n",
      "4 || 34 || magnam ut  || ea velit perferendis\n",
      "4 || 35 || id nihil c || nisi error delectus \n",
      "4 || 36 || fuga nam a || ad mollitia et omnis\n",
      "4 || 37 || provident  || debitis et eaque non\n",
      "4 || 38 || explicabo  || animi esse sit aut s\n",
      "4 || 39 || eos dolore || corporis rerum ducim\n",
      "4 || 40 || enim quo c || ut voluptatum aliqui\n",
      "5 || 41 || non est fa || molestias id nostrum\n",
      "5 || 42 || commodi ul || odio fugit voluptatu\n",
      "5 || 43 || eligendi i || similique fugit est\n",
      "\n",
      "5 || 44 || optio dolo || temporibus est conse\n",
      "5 || 45 || ut numquam || est natus reiciendis\n",
      "5 || 46 || aut quo mo || voluptatem quisquam \n",
      "5 || 47 || quibusdam  || voluptatem assumenda\n",
      "5 || 48 || ut volupta || voluptates quo volup\n",
      "5 || 49 || laborum no || inventore ab sint\n",
      "na\n",
      "5 || 50 || repellendu || error suscipit maxim\n",
      "6 || 51 || soluta ali || sunt dolores aut dol\n",
      "6 || 52 || qui enim e || iusto est quibusdam \n",
      "6 || 53 || ut quo aut || minima harum praesen\n",
      "6 || 54 || sit asperi || totam corporis digni\n",
      "6 || 55 || sit vel vo || debitis excepturi ea\n",
      "6 || 56 || qui et at  || aut est omnis dolore\n",
      "6 || 57 || sed ab est || at pariatur consequu\n",
      "6 || 58 || voluptatum || veniam voluptatum qu\n",
      "6 || 59 || qui commod || perspiciatis et quam\n",
      "6 || 60 || consequatu || asperiores sunt ab a\n",
      "7 || 61 || voluptatem || ab nemo optio odio\n",
      "d\n",
      "7 || 62 || beatae eni || enim aspernatur illo\n",
      "7 || 63 || voluptas b || enim adipisci aspern\n",
      "7 || 64 || et fugit q || id velit blanditiis\n",
      "\n",
      "7 || 65 || consequatu || voluptatibus ex esse\n",
      "7 || 66 || repudianda || officia veritatis te\n",
      "7 || 67 || aliquid eo || reprehenderit id nos\n",
      "7 || 68 || odio quis  || magnam molestiae per\n",
      "7 || 69 || fugiat quo || officiis error culpa\n",
      "7 || 70 || voluptatem || sunt repellendus qua\n",
      "8 || 71 || et iusto v || occaecati a doloribu\n",
      "8 || 72 || sint hic d || quam occaecati qui d\n",
      "8 || 73 || consequunt || voluptatem cumque te\n",
      "8 || 74 || enim unde  || odit qui et et neces\n",
      "8 || 75 || dignissimo || commodi non non omni\n",
      "8 || 76 || doloremque || ut animi facere\n",
      "tota\n",
      "8 || 77 || necessitat || modi ut in nulla rep\n",
      "8 || 78 || quam volup || nobis facilis odit t\n",
      "8 || 79 || pariatur c || libero accusantium e\n",
      "8 || 80 || labore in  || ex quod dolorem ea e\n",
      "9 || 81 || tempora re || facere qui nesciunt \n",
      "9 || 82 || laudantium || ut libero sit aut to\n",
      "9 || 83 || odit et vo || est molestiae facili\n",
      "9 || 84 || optio ipsa || sint molestiae magni\n",
      "9 || 85 || dolore ver || similique sed nisi v\n",
      "9 || 86 || placeat qu || quasi excepturi cons\n",
      "9 || 87 || nostrum qu || eos et molestiae\n",
      "nes\n",
      "9 || 88 || sapiente o || consequatur omnis es\n",
      "9 || 89 || sint solut || repellat aut aperiam\n",
      "9 || 90 || ad iusto o || minus omnis soluta q\n",
      "10 || 91 || aut amet s || libero voluptate eve\n",
      "10 || 92 || ratione ex || aut et excepturi dic\n",
      "10 || 93 || beatae sol || dolorem quibusdam du\n",
      "10 || 94 || qui qui vo || aspernatur expedita \n",
      "10 || 95 || id minus l || earum voluptatem fac\n",
      "10 || 96 || quaerat ve || in non odio exceptur\n",
      "10 || 97 || quas fugia || eum non blanditiis s\n",
      "10 || 98 || laboriosam || doloremque ex facili\n",
      "10 || 99 || temporibus || quo deleniti praesen\n",
      "10 || 100 || at nam con || cupiditate quo est a\n"
     ]
    }
   ],
   "source": [
    "i=0\n",
    "for obj in data:\n",
    "    userID=obj['userId']\n",
    "    ID=obj['id']\n",
    "    title=obj['title']\n",
    "    body=obj['body']\n",
    "    print(userID,\"||\",ID,\"||\",title[:10],\"||\",body[:20])\n",
    "    if i==10:\n",
    "        break\n",
    "\n",
    "    cur.execute('insert into items values(%s,%s,%s,%s)',(userID,ID,title,body))\n",
    "    #print(obj)"
   ]
  },
  {
   "cell_type": "code",
   "execution_count": 35,
   "metadata": {},
   "outputs": [
    {
     "name": "stdout",
     "output_type": "stream",
     "text": [
      "100\n"
     ]
    }
   ],
   "source": [
    "cur.execute(\"select * from items\")\n",
    "records=cur.fetchall()\n",
    "print(cur.rowcount)\n",
    "#for row in records:\n",
    "#    print(row)"
   ]
  },
  {
   "cell_type": "code",
   "execution_count": null,
   "metadata": {},
   "outputs": [],
   "source": [
    "\n",
    "cur.execute('insert into items values(1,1,\"sunt aut facere repellat provident occaecati excepturi optio reprehenderit\",\"quia et suscipit\\nsuscipit recusandae consequuntur expedita et cum\\nreprehenderit molestiae ut ut quas totam\\nnostrum rerum est autem sunt rem eveniet architecto\")')\n",
    "cur.execute('insert into items values(1,1,\"sunt aut facere repellat provident occaecati excepturi optio reprehenderit\",\"quia et suscipit\\nsuscipit recusandae consequuntur expedita et cum\\nreprehenderit molestiae ut ut quas totam\\nnostrum rerum est autem sunt rem eveniet architecto\")')\n"
   ]
  },
  {
   "cell_type": "code",
   "execution_count": null,
   "metadata": {},
   "outputs": [],
   "source": [
    "cur.execute(\"select * from items\")\n",
    "myresult =cur.fetchall()\n",
    "for x in myresult:\n",
    "  print(x)"
   ]
  }
 ],
 "metadata": {
  "interpreter": {
   "hash": "b3ba2566441a7c06988d0923437866b63cedc61552a5af99d1f4fb67d367b25f"
  },
  "kernelspec": {
   "display_name": "Python 3.8.8 64-bit ('base': conda)",
   "language": "python",
   "name": "python3"
  },
  "language_info": {
   "codemirror_mode": {
    "name": "ipython",
    "version": 3
   },
   "file_extension": ".py",
   "mimetype": "text/x-python",
   "name": "python",
   "nbconvert_exporter": "python",
   "pygments_lexer": "ipython3",
   "version": "3.8.8"
  },
  "orig_nbformat": 4
 },
 "nbformat": 4,
 "nbformat_minor": 2
}
